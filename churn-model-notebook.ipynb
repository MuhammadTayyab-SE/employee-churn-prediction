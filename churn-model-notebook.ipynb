{
 "cells": [
  {
   "cell_type": "code",
   "execution_count": 140,
   "metadata": {},
   "outputs": [],
   "source": [
    "\n",
    "import pandas as pd\n",
    "import numpy as np\n",
    "import plotly.express as px\n",
    "import seaborn as sns\n",
    "from hyperopt import hp\n",
    "import plotly.graph_objects as go\n",
    "import plotly.offline as py \n",
    "from sklearn.preprocessing import StandardScaler\n",
    "from sklearn.preprocessing import LabelEncoder\n",
    "from sklearn.preprocessing import OrdinalEncoder\n",
    "from sklearn.model_selection import train_test_split"
   ]
  },
  {
   "cell_type": "code",
   "execution_count": 141,
   "metadata": {},
   "outputs": [],
   "source": [
    "employee_df = pd.read_csv(\"./dataset.csv\")\n",
    "_target_column = \"Attrition\""
   ]
  },
  {
   "cell_type": "code",
   "execution_count": 143,
   "metadata": {},
   "outputs": [],
   "source": [
    "employee_df.drop(columns=[\"EmployeeNumber\"],inplace=True, axis=1)"
   ]
  },
  {
   "cell_type": "code",
   "execution_count": 144,
   "metadata": {},
   "outputs": [
    {
     "data": {
      "text/plain": [
       "0"
      ]
     },
     "execution_count": 144,
     "metadata": {},
     "output_type": "execute_result"
    }
   ],
   "source": [
    "# Checking nans\n",
    "employee_df.isna().sum().sum()"
   ]
  },
  {
   "cell_type": "code",
   "execution_count": 145,
   "metadata": {},
   "outputs": [],
   "source": [
    "# checking cloumns that contain single values\n",
    "single_valued_column = [column for column in employee_df.columns if len(employee_df[column].unique()) < 2]"
   ]
  },
  {
   "cell_type": "code",
   "execution_count": 146,
   "metadata": {},
   "outputs": [],
   "source": [
    "# droping single valued columns\n",
    "df = employee_df.drop(columns= single_valued_column, axis=1)"
   ]
  },
  {
   "cell_type": "code",
   "execution_count": 147,
   "metadata": {},
   "outputs": [
    {
     "data": {
      "text/plain": [
       "[Text(0.5, 1.0, 'Data distribution for Attrition')]"
      ]
     },
     "execution_count": 147,
     "metadata": {},
     "output_type": "execute_result"
    },
    {
     "data": {
      "image/png": "[encoded data removed]",
      "text/plain": [
       "<Figure size 640x480 with 1 Axes>"
      ]
     },
     "metadata": {},
     "output_type": "display_data"
    }
   ],
   "source": [
    "# check label distribution\n",
    "sns.countplot(x=_target_column,data = df).set(title=f'Data distribution for {_target_column}')"
   ]
  },
  {
   "cell_type": "code",
   "execution_count": 148,
   "metadata": {},
   "outputs": [
    {
     "name": "stdout",
     "output_type": "stream",
     "text": [
      "<class 'pandas.core.frame.DataFrame'>\n",
      "RangeIndex: 1470 entries, 0 to 1469\n",
      "Data columns (total 31 columns):\n",
      " #   Column                    Non-Null Count  Dtype \n",
      "---  ------                    --------------  ----- \n",
      " 0   Age                       1470 non-null   int64 \n",
      " 1   Attrition                 1470 non-null   object\n",
      " 2   BusinessTravel            1470 non-null   object\n",
      " 3   DailyRate                 1470 non-null   int64 \n",
      " 4   Department                1470 non-null   object\n",
      " 5   DistanceFromHome          1470 non-null   int64 \n",
      " 6   Education                 1470 non-null   int64 \n",
      " 7   EducationField            1470 non-null   object\n",
      " 8   EnvironmentSatisfaction   1470 non-null   int64 \n",
      " 9   Gender                    1470 non-null   object\n",
      " 10  HourlyRate                1470 non-null   int64 \n",
      " 11  JobInvolvement            1470 non-null   int64 \n",
      " 12  JobLevel                  1470 non-null   int64 \n",
      " 13  JobRole                   1470 non-null   object\n",
      " 14  JobSatisfaction           1470 non-null   int64 \n",
      " 15  MaritalStatus             1470 non-null   object\n",
      " 16  MonthlyIncome             1470 non-null   int64 \n",
      " 17  MonthlyRate               1470 non-null   int64 \n",
      " 18  NumCompaniesWorked        1470 non-null   int64 \n",
      " 19  OverTime                  1470 non-null   object\n",
      " 20  PercentSalaryHike         1470 non-null   int64 \n",
      " 21  PerformanceRating         1470 non-null   int64 \n",
      " 22  RelationshipSatisfaction  1470 non-null   int64 \n",
      " 23  StockOptionLevel          1470 non-null   int64 \n",
      " 24  TotalWorkingYears         1470 non-null   int64 \n",
      " 25  TrainingTimesLastYear     1470 non-null   int64 \n",
      " 26  WorkLifeBalance           1470 non-null   int64 \n",
      " 27  YearsAtCompany            1470 non-null   int64 \n",
      " 28  YearsInCurrentRole        1470 non-null   int64 \n",
      " 29  YearsSinceLastPromotion   1470 non-null   int64 \n",
      " 30  YearsWithCurrManager      1470 non-null   int64 \n",
      "dtypes: int64(23), object(8)\n",
      "memory usage: 356.1+ KB\n"
     ]
    }
   ],
   "source": [
    "df.info()"
   ]
  },
  {
   "cell_type": "code",
   "execution_count": 149,
   "metadata": {},
   "outputs": [],
   "source": [
    "# apply label encoding to target column\n",
    "label_encoder = LabelEncoder()\n",
    "label_encoder.fit(df[_target_column])\n",
    "df[_target_column] = label_encoder.transform(df[_target_column])"
   ]
  },
  {
   "cell_type": "code",
   "execution_count": 150,
   "metadata": {},
   "outputs": [],
   "source": [
    "# feature encoding\n",
    "object_cols = [col for col, dtype in df.dtypes.items() if dtype == \"object\" or dtype == \"string\"]\n",
    "feature_encoder = OrdinalEncoder()\n",
    "feature_encoder.fit(df[object_cols])\n",
    "df[object_cols] = feature_encoder.transform(df[object_cols])"
   ]
  },
  {
   "cell_type": "code",
   "execution_count": 151,
   "metadata": {},
   "outputs": [
    {
     "data": {
      "application/vnd.plotly.v1+json": {
       "config": {
        "linkText": "Export to plot.ly",
        "plotlyServerURL": "https://plot.ly",
        "showLink": false
       },
       "data": [
        {
         "colorscale": [
          [
           0,
           "#440154"
          ],
          [
           0.1111111111111111,
           "#482878"
          ],
          [
           0.2222222222222222,
           "#3e4989"
          ],
          [
           0.3333333333333333,
           "#31688e"
          ],
          [
           0.4444444444444444,
           "#26828e"
          ],
          [
           0.5555555555555556,
           "#1f9e89"
          ],
          [
           0.6666666666666666,
           "#35b779"
          ],
          [
           0.7777777777777778,
           "#6ece58"
          ],
          [
           0.8888888888888888,
           "#b5de2b"
          ],
          [
           1,
           "#fde725"
          ]
         ],
         "opacity": 1,
         "reversescale": false,
         "type": "heatmap",
         "x": [
          "Age",
          "Attrition",
          "BusinessTravel",
          "DailyRate",
          "Department",
          "DistanceFromHome",
          "Education",
          "EducationField",
          "EnvironmentSatisfaction",
          "Gender",
          "HourlyRate",
          "JobInvolvement",
          "JobLevel",
          "JobRole",
          "JobSatisfaction",
          "MaritalStatus",
          "MonthlyIncome",
          "MonthlyRate",
          "NumCompaniesWorked",
          "OverTime",
          "PercentSalaryHike",
          "PerformanceRating",
          "RelationshipSatisfaction",
          "StockOptionLevel",
          "TotalWorkingYears",
          "TrainingTimesLastYear",
          "WorkLifeBalance",
          "YearsAtCompany",
          "YearsInCurrentRole",
          "YearsSinceLastPromotion",
          "YearsWithCurrManager"
         ],
         "y": [
          "Age",
          "Attrition",
          "BusinessTravel",
          "DailyRate",
          "Department",
          "DistanceFromHome",
          "Education",
          "EducationField",
          "EnvironmentSatisfaction",
          "Gender",
          "HourlyRate",
          "JobInvolvement",
          "JobLevel",
          "JobRole",
          "JobSatisfaction",
          "MaritalStatus",
          "MonthlyIncome",
          "MonthlyRate",
          "NumCompaniesWorked",
          "OverTime",
          "PercentSalaryHike",
          "PerformanceRating",
          "RelationshipSatisfaction",
          "StockOptionLevel",
          "TotalWorkingYears",
          "TrainingTimesLastYear",
          "WorkLifeBalance",
          "YearsAtCompany",
          "YearsInCurrentRole",
          "YearsSinceLastPromotion",
          "YearsWithCurrManager"
         ],
         "z": [
          [
           1,
           -0.15920500686577962,
           0.0247514342274682,
           0.010660942645538433,
           -0.03188228330072991,
           -0.00168612014808715,
           0.2080337310142398,
           -0.04087284807146613,
           0.010146427861437268,
           -0.03631055011579357,
           0.024286542550967197,
           0.029819958629590578,
           0.5096042284323842,
           -0.1224266769815969,
           -0.00489187714868713,
           -0.09502891010976444,
           0.4978545669265801,
           0.02805116713392273,
           0.2996347579836926,
           0.02806235708412427,
           0.0036335849148618872,
           0.0019038955127587383,
           0.053534719671229365,
           0.037509712424777526,
           0.6803805357911985,
           -0.01962081894269849,
           -0.021490027957098715,
           0.3113087697450989,
           0.21290105556556793,
           0.2165133678516537,
           0.20208860237515264
          ],
          [
           -0.15920500686577962,
           1,
           0.00007377694602219632,
           -0.05665199186762936,
           0.06399059633809044,
           0.07792358295570369,
           -0.031372819640049315,
           0.026845545711446116,
           -0.10336897833793603,
           0.029453253175141608,
           -0.006845549572139952,
           -0.13001595678605374,
           -0.16910475093102761,
           0.0671514950495707,
           -0.10348112606902123,
           0.1620702346570145,
           -0.15983958238498852,
           0.015170212530471473,
           0.04349373905781363,
           0.24611799424580436,
           -0.01347820205743911,
           0.0028887517110809,
           -0.0458722788811267,
           -0.13714491893332562,
           -0.17106324613622612,
           -0.05947779855642057,
           -0.06393904721740885,
           -0.13439221398997708,
           -0.16054500426770077,
           -0.033018775142584306,
           -0.1561993159016288
          ],
          [
           0.0247514342274682,
           0.00007377694602219632,
           1,
           -0.004086033926953418,
           -0.009043571242294272,
           -0.02446944163234357,
           0.0007569331000715096,
           0.02372382904541367,
           0.004174404869853684,
           -0.03298095630330749,
           0.026528186185596783,
           0.03906150055617756,
           0.01931128206178931,
           0.0027244109000167565,
           -0.03396215133593357,
           0.024000511077131453,
           0.034318945923125975,
           -0.014107088393482797,
           0.02087475241405679,
           0.016543041959464155,
           -0.029377054262785453,
           -0.026341134547234697,
           -0.035985692635001246,
           -0.016726870591562703,
           0.03422562156281289,
           0.015240033390293504,
           -0.01125581980894752,
           -0.014575008100002968,
           -0.01149744710121204,
           -0.03259115293987571,
           -0.022635734476974707
          ],
          [
           0.010660942645538433,
           -0.05665199186762936,
           -0.004086033926953418,
           1,
           0.00710871368920498,
           -0.00498533735255263,
           -0.01680643320915763,
           0.037709228730537545,
           0.018354854300385557,
           -0.011716137907748132,
           0.023381421528320526,
           0.04613487399781112,
           0.0029663348551116197,
           -0.009472200978728598,
           0.030571007837143983,
           -0.06958564143828061,
           0.007707058872006053,
           -0.03218160152258194,
           0.0381534342794098,
           0.009134969901135003,
           0.022703677496334968,
           0.00047329632718855213,
           0.007846030957248387,
           0.04214279637720667,
           0.014514738706320902,
           0.002452542712083144,
           -0.03784805100578179,
           -0.03405476756854742,
           0.009932014960094215,
           -0.033228984787772024,
           -0.026363178228837676
          ],
          [
           -0.03188228330072991,
           0.06399059633809044,
           -0.009043571242294272,
           0.00710871368920498,
           1,
           0.017224803613741523,
           0.007996422048222453,
           0.013719502055400219,
           -0.019395270630633604,
           -0.04158329022689383,
           -0.0041437079359101245,
           -0.024586061708943067,
           0.10196310581158123,
           0.6624311978258447,
           0.021000878851935606,
           0.05607343535371021,
           0.05312969779771346,
           0.023642072073989245,
           -0.03588161226395167,
           0.007480967586686152,
           -0.007840161292256858,
           -0.02460354282999718,
           -0.022414425363375762,
           -0.012192914425298778,
           -0.01576151193856509,
           0.03687506626343186,
           0.02638252503731577,
           0.02292044231819457,
           0.05631544679192437,
           0.040060966873315576,
           0.03428247258579977
          ],
          [
           -0.00168612014808715,
           0.07792358295570369,
           -0.02446944163234357,
           -0.00498533735255263,
           0.017224803613741523,
           1,
           0.021041825624123392,
           0.0020134531618650167,
           -0.016075326996493524,
           -0.001850527991125823,
           0.03113058561176572,
           0.008783279886444255,
           0.005302730554496216,
           -0.0010149626702067873,
           -0.0036688391677205793,
           -0.014437031066696958,
           -0.017014444745275862,
           0.02747286354888413,
           -0.029250804197293017,
           0.025513634949946202,
           0.040235377459193075,
           0.027109618481976,
           0.006557474646578779,
           0.04487199885318152,
           0.004628425863783857,
           -0.036942234339915794,
           -0.02655600410656903,
           0.009507719899011289,
           0.018844999108945746,
           0.010028835943115395,
           0.014406048430630005
          ],
          [
           0.2080337310142398,
           -0.031372819640049315,
           0.0007569331000715096,
           -0.01680643320915763,
           0.007996422048222453,
           0.021041825624123392,
           1,
           -0.03959215035483531,
           -0.027128313256511792,
           -0.016546827443885605,
           0.01677482888096076,
           0.042437634318607954,
           0.10158888624850043,
           0.004235760588005121,
           -0.011296116736574002,
           0.004052654286161424,
           0.09496067704188883,
           -0.026084197160047493,
           0.12631656017668452,
           -0.020321767395703745,
           -0.011110940860654192,
           -0.024538791164833557,
           -0.009118376696381533,
           0.018422220204016834,
           0.1482796965388733,
           -0.025100241137933348,
           0.00981918930978191,
           0.06911369603133866,
           0.06023555412069576,
           0.054254333591320224,
           0.06906537825528458
          ],
          [
           -0.04087284807146613,
           0.026845545711446116,
           0.02372382904541367,
           0.037709228730537545,
           0.013719502055400219,
           0.0020134531618650167,
           -0.03959215035483531,
           1,
           0.043163490738600145,
           -0.00250401878423115,
           -0.021941219144655737,
           -0.0026552776110778573,
           -0.04493267184541633,
           0.015598781660541086,
           -0.03440081372223275,
           0.014419540650955494,
           -0.04107014982694315,
           -0.027181682316773002,
           -0.00866304324761888,
           0.0022585999419920447,
           -0.011213501982296946,
           -0.005614213422380856,
           -0.0043777110277723455,
           -0.01618471319090458,
           -0.027847625774337487,
           0.04919535260338077,
           0.0411911306183361,
           -0.01869210148807252,
           -0.010506202897218365,
           0.002325656245293825,
           -0.0041296946571650955
          ],
          [
           0.010146427861437268,
           -0.10336897833793603,
           0.004174404869853684,
           0.018354854300385557,
           -0.019395270630633604,
           -0.016075326996493524,
           -0.027128313256511792,
           0.043163490738600145,
           1,
           0.0005083138899311308,
           -0.04985695620300066,
           -0.008277598171759099,
           0.001211699448913883,
           -0.017321382588936562,
           -0.006784352599075007,
           -0.0035934733263502366,
           -0.0062590877547801654,
           0.037599622865715374,
           0.012594323218943297,
           0.07013172677409499,
           -0.031701195241792046,
           -0.02954795229768088,
           0.007665383541074558,
           0.0034321577550574162,
           -0.002693070388534207,
           -0.01935930834713247,
           0.027627295460115428,
           0.0014575491911164862,
           0.01800746014287853,
           0.016193605568453326,
           -0.004998722628107581
          ],
          [
           -0.03631055011579357,
           0.029453253175141608,
           -0.03298095630330749,
           -0.011716137907748132,
           -0.04158329022689383,
           -0.001850527991125823,
           -0.016546827443885605,
           -0.00250401878423115,
           0.0005083138899311308,
           1,
           -0.0004782970511301569,
           0.01795975538391724,
           -0.03940310267613361,
           -0.03972290004452621,
           0.03325169742246444,
           -0.04718259236721143,
           -0.03185849179665437,
           -0.04148220511998838,
           -0.03914744956027873,
           -0.04192434795198779,
           0.002732647514859198,
           -0.01385901836168926,
           0.022868369968027304,
           0.012715713764063505,
           -0.046880939477783164,
           -0.038786735477879065,
           -0.0027526788208192426,
           -0.02974708593503422,
           -0.041482728525767794,
           -0.026984577172944443,
           -0.030598909280602517
          ],
          [
           0.024286542550967197,
           -0.006845549572139952,
           0.026528186185596783,
           0.023381421528320526,
           -0.0041437079359101245,
           0.03113058561176572,
           0.01677482888096076,
           -0.021941219144655737,
           -0.04985695620300066,
           -0.0004782970511301569,
           1,
           0.04286064097152976,
           -0.027853486405547218,
           -0.018860798775027953,
           -0.07133462437378787,
           -0.01786050587650774,
           -0.015794304380892982,
           -0.015296749550649661,
           0.02215688339019683,
           -0.007781974360999847,
           -0.00906198625374016,
           -0.002171697427810162,
           0.0013304527859508606,
           0.050263399065119486,
           -0.002333681823322269,
           -0.008547685209270649,
           -0.004607233750264554,
           -0.019581616209121275,
           -0.02410622020878498,
           -0.02671558606433524,
           -0.020123200184066006
          ],
          [
           0.029819958629590578,
           -0.13001595678605374,
           0.03906150055617756,
           0.04613487399781112,
           -0.024586061708943067,
           0.008783279886444255,
           0.042437634318607954,
           -0.0026552776110778573,
           -0.008277598171759099,
           0.01795975538391724,
           0.04286064097152976,
           1,
           -0.012629882671190631,
           0.00661634687934401,
           -0.021475910335306454,
           -0.03849701869682954,
           -0.015271490778732832,
           -0.016322079053317298,
           0.015012413243110999,
           -0.0035067105694042582,
           -0.017204572244480378,
           -0.029071333439069817,
           0.034296820611197744,
           0.021522640378023858,
           -0.0055331820574074635,
           -0.015337825759429116,
           -0.014616593162761865,
           -0.021355426979629725,
           0.00871696349761169,
           -0.024184292365179074,
           0.025975807949088936
          ],
          [
           0.5096042284323842,
           -0.16910475093102761,
           0.01931128206178931,
           0.0029663348551116197,
           0.10196310581158123,
           0.005302730554496216,
           0.10158888624850043,
           -0.04493267184541633,
           0.001211699448913883,
           -0.03940310267613361,
           -0.027853486405547218,
           -0.012629882671190631,
           1,
           -0.0854574338762929,
           -0.0019437080267456581,
           -0.076769478128518,
           0.9502999134798473,
           0.03956295104568388,
           0.1425011238104873,
           0.0005440477748809324,
           -0.03473049227941817,
           -0.021222082108857152,
           0.021641510532591595,
           0.013983910528615457,
           0.7822078045362748,
           -0.018190550193549416,
           0.037817745596666404,
           0.5347386873756308,
           0.3894467328766705,
           0.3538853469641021,
           0.37528060776572636
          ],
          [
           -0.1224266769815969,
           0.0671514950495707,
           0.0027244109000167565,
           -0.009472200978728598,
           0.6624311978258447,
           -0.0010149626702067873,
           0.004235760588005121,
           0.015598781660541086,
           -0.017321382588936562,
           -0.03972290004452621,
           -0.018860798775027953,
           0.00661634687934401,
           -0.0854574338762929,
           1,
           0.01753679103208312,
           0.06795661755357517,
           -0.09395110236367299,
           0.005290431064866397,
           -0.05636750837982864,
           0.04066236624586525,
           -0.0008476254251927527,
           -0.024233324170999743,
           -0.020217654202925137,
           -0.019170590175323136,
           -0.1454391373288205,
           0.0013422953476571757,
           0.027764066078800585,
           -0.08365666096632725,
           -0.028353979891644687,
           -0.046384359196744156,
           -0.04114962517571275
          ],
          [
           -0.00489187714868713,
           -0.10348112606902123,
           -0.03396215133593357,
           0.030571007837143983,
           0.021000878851935606,
           -0.0036688391677205793,
           -0.011296116736574002,
           -0.03440081372223275,
           -0.006784352599075007,
           0.03325169742246444,
           -0.07133462437378787,
           -0.021475910335306454,
           -0.0019437080267456581,
           0.01753679103208312,
           1,
           0.024359952979776403,
           -0.00715674235591272,
           0.0006439169427037768,
           -0.05569942601274605,
           0.02453948106003157,
           0.020002039364081927,
           0.0022971970637806114,
           -0.012453593161926702,
           0.010690226120755746,
           -0.020185072685016788,
           -0.005779334958609115,
           -0.01945871021297396,
           -0.0038026279482880534,
           -0.002304785229830135,
           -0.01821356781019079,
           -0.027656213884289974
          ],
          [
           -0.09502891010976444,
           0.1620702346570145,
           0.024000511077131453,
           -0.06958564143828061,
           0.05607343535371021,
           -0.014437031066696958,
           0.004052654286161424,
           0.014419540650955494,
           -0.0035934733263502366,
           -0.04718259236721143,
           -0.01786050587650774,
           -0.03849701869682954,
           -0.076769478128518,
           0.06795661755357517,
           0.024359952979776403,
           1,
           -0.075449581863774,
           0.02393742664040823,
           -0.03550538873744991,
           -0.017521381576973676,
           0.012492328795430378,
           0.005206626005852179,
           0.022549070679790766,
           -0.6625772916604346,
           -0.07788635203890557,
           0.010628607216852454,
           0.014708293809200993,
           -0.05998600393326188,
           -0.06582189982406562,
           -0.03091507878506033,
           -0.03857007373342352
          ],
          [
           0.4978545669265801,
           -0.15983958238498852,
           0.034318945923125975,
           0.007707058872006053,
           0.05312969779771346,
           -0.017014444745275862,
           0.09496067704188883,
           -0.04107014982694315,
           -0.0062590877547801654,
           -0.03185849179665437,
           -0.015794304380892982,
           -0.015271490778732832,
           0.9502999134798473,
           -0.09395110236367299,
           -0.00715674235591272,
           -0.075449581863774,
           1,
           0.034813626134121846,
           0.14951521598969805,
           0.006089285402589954,
           -0.02726858644031447,
           -0.01712013823739077,
           0.025873436137557656,
           0.005407676696812238,
           0.7728932462543574,
           -0.02173627682389331,
           0.030683081556940557,
           0.5142848257331957,
           0.3638176669287084,
           0.3449776381654271,
           0.34407888325872127
          ],
          [
           0.02805116713392273,
           0.015170212530471473,
           -0.014107088393482797,
           -0.03218160152258194,
           0.023642072073989245,
           0.02747286354888413,
           -0.026084197160047493,
           -0.027181682316773002,
           0.037599622865715374,
           -0.04148220511998838,
           -0.015296749550649661,
           -0.016322079053317298,
           0.03956295104568388,
           0.005290431064866397,
           0.0006439169427037768,
           0.02393742664040823,
           0.034813626134121846,
           1,
           0.017521353415571563,
           0.021431144567353413,
           -0.006429345946711407,
           -0.00981142848936084,
           -0.004085329337519686,
           -0.034322830206660805,
           0.026442471176015385,
           0.0014668806322858448,
           0.007963157516977033,
           -0.023655106706177275,
           -0.012814874370471728,
           0.001566799514676175,
           -0.036745905336769386
          ],
          [
           0.2996347579836926,
           0.04349373905781363,
           0.02087475241405679,
           0.0381534342794098,
           -0.03588161226395167,
           -0.029250804197293017,
           0.12631656017668452,
           -0.00866304324761888,
           0.012594323218943297,
           -0.03914744956027873,
           0.02215688339019683,
           0.015012413243110999,
           0.1425011238104873,
           -0.05636750837982864,
           -0.05569942601274605,
           -0.03550538873744991,
           0.14951521598969805,
           0.017521353415571563,
           1,
           -0.020785821366833934,
           -0.010238309359925521,
           -0.014094872753535133,
           0.05273304856488617,
           0.030075475096897484,
           0.23763858978479552,
           -0.06605407172783646,
           -0.008365684790058631,
           -0.11842134024259104,
           -0.0907539337008081,
           -0.03681389238350808,
           -0.11031915543773241
          ],
          [
           0.02806235708412427,
           0.24611799424580436,
           0.016543041959464155,
           0.009134969901135003,
           0.007480967586686152,
           0.025513634949946202,
           -0.020321767395703745,
           0.0022585999419920447,
           0.07013172677409499,
           -0.04192434795198779,
           -0.007781974360999847,
           -0.0035067105694042582,
           0.0005440477748809324,
           0.04066236624586525,
           0.02453948106003157,
           -0.017521381576973676,
           0.006089285402589954,
           0.021431144567353413,
           -0.020785821366833934,
           1,
           -0.005432826650792697,
           0.004369120061651961,
           0.04849280287013859,
           -0.0004486707219197341,
           0.01275426634193641,
           -0.07911337155100957,
           -0.02709187847239314,
           -0.011687120468355147,
           -0.029758008947989495,
           -0.012238822598887953,
           -0.041585998653857856
          ],
          [
           0.0036335849148618872,
           -0.01347820205743911,
           -0.029377054262785453,
           0.022703677496334968,
           -0.007840161292256858,
           0.040235377459193075,
           -0.011110940860654192,
           -0.011213501982296946,
           -0.031701195241792046,
           0.002732647514859198,
           -0.00906198625374016,
           -0.017204572244480378,
           -0.03473049227941817,
           -0.0008476254251927527,
           0.020002039364081927,
           0.012492328795430378,
           -0.02726858644031447,
           -0.006429345946711407,
           -0.010238309359925521,
           -0.005432826650792697,
           1,
           0.7735499964012664,
           -0.04049008105707734,
           0.0075277478205202026,
           -0.020608487617691264,
           -0.005221012351721004,
           -0.0032796360093680704,
           -0.03599126243195373,
           -0.0015200265442777774,
           -0.022154312598866126,
           -0.01198524847236139
          ],
          [
           0.0019038955127587383,
           0.0028887517110809,
           -0.026341134547234697,
           0.00047329632718855213,
           -0.02460354282999718,
           0.027109618481976,
           -0.024538791164833557,
           -0.005614213422380856,
           -0.02954795229768088,
           -0.01385901836168926,
           -0.002171697427810162,
           -0.029071333439069817,
           -0.021222082108857152,
           -0.024233324170999743,
           0.0022971970637806114,
           0.005206626005852179,
           -0.01712013823739077,
           -0.00981142848936084,
           -0.014094872753535133,
           0.004369120061651961,
           0.7735499964012664,
           1,
           -0.031351455442454886,
           0.003506471614809783,
           0.0067436679059531685,
           -0.015578881739137565,
           0.002572361317682639,
           0.0034351261159238713,
           0.034986260407194936,
           0.017896066144799785,
           0.022827168908479807
          ],
          [
           0.053534719671229365,
           -0.0458722788811267,
           -0.035985692635001246,
           0.007846030957248387,
           -0.022414425363375762,
           0.006557474646578779,
           -0.009118376696381533,
           -0.0043777110277723455,
           0.007665383541074558,
           0.022868369968027304,
           0.0013304527859508606,
           0.034296820611197744,
           0.021641510532591595,
           -0.020217654202925137,
           -0.012453593161926702,
           0.022549070679790766,
           0.025873436137557656,
           -0.004085329337519686,
           0.05273304856488617,
           0.04849280287013859,
           -0.04049008105707734,
           -0.031351455442454886,
           1,
           -0.045952490716561906,
           0.02405429182134145,
           0.002496526392116996,
           0.01960440570396871,
           0.019366786877455463,
           -0.015122914881937748,
           0.033492502069354176,
           -0.0008674968446256695
          ],
          [
           0.037509712424777526,
           -0.13714491893332562,
           -0.016726870591562703,
           0.04214279637720667,
           -0.012192914425298778,
           0.04487199885318152,
           0.018422220204016834,
           -0.01618471319090458,
           0.0034321577550574162,
           0.012715713764063505,
           0.050263399065119486,
           0.021522640378023858,
           0.013983910528615457,
           -0.019170590175323136,
           0.010690226120755746,
           -0.6625772916604346,
           0.005407676696812238,
           -0.034322830206660805,
           0.030075475096897484,
           -0.0004486707219197341,
           0.0075277478205202026,
           0.003506471614809783,
           -0.045952490716561906,
           1,
           0.010135969318901629,
           0.011274069611249207,
           0.004128730002871338,
           0.015058008028094509,
           0.050817872753931646,
           0.01435218486435548,
           0.02469822656303012
          ],
          [
           0.6803805357911985,
           -0.17106324613622612,
           0.03422562156281289,
           0.014514738706320902,
           -0.01576151193856509,
           0.004628425863783857,
           0.1482796965388733,
           -0.027847625774337487,
           -0.002693070388534207,
           -0.046880939477783164,
           -0.002333681823322269,
           -0.0055331820574074635,
           0.7822078045362748,
           -0.1454391373288205,
           -0.020185072685016788,
           -0.07788635203890557,
           0.7728932462543574,
           0.026442471176015385,
           0.23763858978479552,
           0.01275426634193641,
           -0.020608487617691264,
           0.0067436679059531685,
           0.02405429182134145,
           0.010135969318901629,
           1,
           -0.03566157127961907,
           0.0010076456218964924,
           0.6281331552682468,
           0.46036463801180993,
           0.4048577585025587,
           0.45918839708314385
          ],
          [
           -0.01962081894269849,
           -0.05947779855642057,
           0.015240033390293504,
           0.002452542712083144,
           0.03687506626343186,
           -0.036942234339915794,
           -0.025100241137933348,
           0.04919535260338077,
           -0.01935930834713247,
           -0.038786735477879065,
           -0.008547685209270649,
           -0.015337825759429116,
           -0.018190550193549416,
           0.0013422953476571757,
           -0.005779334958609115,
           0.010628607216852454,
           -0.02173627682389331,
           0.0014668806322858448,
           -0.06605407172783646,
           -0.07911337155100957,
           -0.005221012351721004,
           -0.015578881739137565,
           0.002496526392116996,
           0.011274069611249207,
           -0.03566157127961907,
           1,
           0.02807220660362872,
           0.003568665678427449,
           -0.0057375043379568925,
           -0.0020665360380059438,
           -0.004095526021226202
          ],
          [
           -0.021490027957098715,
           -0.06393904721740885,
           -0.01125581980894752,
           -0.03784805100578179,
           0.02638252503731577,
           -0.02655600410656903,
           0.00981918930978191,
           0.0411911306183361,
           0.027627295460115428,
           -0.0027526788208192426,
           -0.004607233750264554,
           -0.014616593162761865,
           0.037817745596666404,
           0.027764066078800585,
           -0.01945871021297396,
           0.014708293809200993,
           0.030683081556940557,
           0.007963157516977033,
           -0.008365684790058631,
           -0.02709187847239314,
           -0.0032796360093680704,
           0.002572361317682639,
           0.01960440570396871,
           0.004128730002871338,
           0.0010076456218964924,
           0.02807220660362872,
           1,
           0.012089185354581315,
           0.04985649792220436,
           0.008941249141234323,
           0.002759440242340428
          ],
          [
           0.3113087697450989,
           -0.13439221398997708,
           -0.014575008100002968,
           -0.03405476756854742,
           0.02292044231819457,
           0.009507719899011289,
           0.06911369603133866,
           -0.01869210148807252,
           0.0014575491911164862,
           -0.02974708593503422,
           -0.019581616209121275,
           -0.021355426979629725,
           0.5347386873756308,
           -0.08365666096632725,
           -0.0038026279482880534,
           -0.05998600393326188,
           0.5142848257331957,
           -0.023655106706177275,
           -0.11842134024259104,
           -0.011687120468355147,
           -0.03599126243195373,
           0.0034351261159238713,
           0.019366786877455463,
           0.015058008028094509,
           0.6281331552682468,
           0.003568665678427449,
           0.012089185354581315,
           1,
           0.7587537366134619,
           0.6184088652176047,
           0.7692124251007031
          ],
          [
           0.21290105556556793,
           -0.16054500426770077,
           -0.01149744710121204,
           0.009932014960094215,
           0.05631544679192437,
           0.018844999108945746,
           0.06023555412069576,
           -0.010506202897218365,
           0.01800746014287853,
           -0.041482728525767794,
           -0.02410622020878498,
           0.00871696349761169,
           0.3894467328766705,
           -0.028353979891644687,
           -0.002304785229830135,
           -0.06582189982406562,
           0.3638176669287084,
           -0.012814874370471728,
           -0.0907539337008081,
           -0.029758008947989495,
           -0.0015200265442777774,
           0.034986260407194936,
           -0.015122914881937748,
           0.050817872753931646,
           0.46036463801180993,
           -0.0057375043379568925,
           0.04985649792220436,
           0.7587537366134619,
           1,
           0.5480562476995187,
           0.7143647616385931
          ],
          [
           0.2165133678516537,
           -0.033018775142584306,
           -0.03259115293987571,
           -0.033228984787772024,
           0.040060966873315576,
           0.010028835943115395,
           0.054254333591320224,
           0.002325656245293825,
           0.016193605568453326,
           -0.026984577172944443,
           -0.02671558606433524,
           -0.024184292365179074,
           0.3538853469641021,
           -0.046384359196744156,
           -0.01821356781019079,
           -0.03091507878506033,
           0.3449776381654271,
           0.001566799514676175,
           -0.03681389238350808,
           -0.012238822598887953,
           -0.022154312598866126,
           0.017896066144799785,
           0.033492502069354176,
           0.01435218486435548,
           0.4048577585025587,
           -0.0020665360380059438,
           0.008941249141234323,
           0.6184088652176047,
           0.5480562476995187,
           1,
           0.5102236357788085
          ],
          [
           0.20208860237515264,
           -0.1561993159016288,
           -0.022635734476974707,
           -0.026363178228837676,
           0.03428247258579977,
           0.014406048430630005,
           0.06906537825528458,
           -0.0041296946571650955,
           -0.004998722628107581,
           -0.030598909280602517,
           -0.020123200184066006,
           0.025975807949088936,
           0.37528060776572636,
           -0.04114962517571275,
           -0.027656213884289974,
           -0.03857007373342352,
           0.34407888325872127,
           -0.036745905336769386,
           -0.11031915543773241,
           -0.041585998653857856,
           -0.01198524847236139,
           0.022827168908479807,
           -0.0008674968446256695,
           0.02469822656303012,
           0.45918839708314385,
           -0.004095526021226202,
           0.002759440242340428,
           0.7692124251007031,
           0.7143647616385931,
           0.5102236357788085,
           1
          ]
         ]
        }
       ],
       "layout": {
        "height": 700,
        "template": {
         "data": {
          "bar": [
           {
            "error_x": {
             "color": "#2a3f5f"
            },
            "error_y": {
             "color": "#2a3f5f"
            },
            "marker": {
             "line": {
              "color": "#E5ECF6",
              "width": 0.5
             },
             "pattern": {
              "fillmode": "overlay",
              "size": 10,
              "solidity": 0.2
             }
            },
            "type": "bar"
           }
          ],
          "barpolar": [
           {
            "marker": {
             "line": {
              "color": "#E5ECF6",
              "width": 0.5
             },
             "pattern": {
              "fillmode": "overlay",
              "size": 10,
              "solidity": 0.2
             }
            },
            "type": "barpolar"
           }
          ],
          "carpet": [
           {
            "aaxis": {
             "endlinecolor": "#2a3f5f",
             "gridcolor": "white",
             "linecolor": "white",
             "minorgridcolor": "white",
             "startlinecolor": "#2a3f5f"
            },
            "baxis": {
             "endlinecolor": "#2a3f5f",
             "gridcolor": "white",
             "linecolor": "white",
             "minorgridcolor": "white",
             "startlinecolor": "#2a3f5f"
            },
            "type": "carpet"
           }
          ],
          "choropleth": [
           {
            "colorbar": {
             "outlinewidth": 0,
             "ticks": ""
            },
            "type": "choropleth"
           }
          ],
          "contour": [
           {
            "colorbar": {
             "outlinewidth": 0,
             "ticks": ""
            },
            "colorscale": [
             [
              0,
              "#0d0887"
             ],
             [
              0.1111111111111111,
              "#46039f"
             ],
             [
              0.2222222222222222,
              "#7201a8"
             ],
             [
              0.3333333333333333,
              "#9c179e"
             ],
             [
              0.4444444444444444,
              "#bd3786"
             ],
             [
              0.5555555555555556,
              "#d8576b"
             ],
             [
              0.6666666666666666,
              "#ed7953"
             ],
             [
              0.7777777777777778,
              "#fb9f3a"
             ],
             [
              0.8888888888888888,
              "#fdca26"
             ],
             [
              1,
              "#f0f921"
             ]
            ],
            "type": "contour"
           }
          ],
          "contourcarpet": [
           {
            "colorbar": {
             "outlinewidth": 0,
             "ticks": ""
            },
            "type": "contourcarpet"
           }
          ],
          "heatmap": [
           {
            "colorbar": {
             "outlinewidth": 0,
             "ticks": ""
            },
            "colorscale": [
             [
              0,
              "#0d0887"
             ],
             [
              0.1111111111111111,
              "#46039f"
             ],
             [
              0.2222222222222222,
              "#7201a8"
             ],
             [
              0.3333333333333333,
              "#9c179e"
             ],
             [
              0.4444444444444444,
              "#bd3786"
             ],
             [
              0.5555555555555556,
              "#d8576b"
             ],
             [
              0.6666666666666666,
              "#ed7953"
             ],
             [
              0.7777777777777778,
              "#fb9f3a"
             ],
             [
              0.8888888888888888,
              "#fdca26"
             ],
             [
              1,
              "#f0f921"
             ]
            ],
            "type": "heatmap"
           }
          ],
          "heatmapgl": [
           {
            "colorbar": {
             "outlinewidth": 0,
             "ticks": ""
            },
            "colorscale": [
             [
              0,
              "#0d0887"
             ],
             [
              0.1111111111111111,
              "#46039f"
             ],
             [
              0.2222222222222222,
              "#7201a8"
             ],
             [
              0.3333333333333333,
              "#9c179e"
             ],
             [
              0.4444444444444444,
              "#bd3786"
             ],
             [
              0.5555555555555556,
              "#d8576b"
             ],
             [
              0.6666666666666666,
              "#ed7953"
             ],
             [
              0.7777777777777778,
              "#fb9f3a"
             ],
             [
              0.8888888888888888,
              "#fdca26"
             ],
             [
              1,
              "#f0f921"
             ]
            ],
            "type": "heatmapgl"
           }
          ],
          "histogram": [
           {
            "marker": {
             "pattern": {
              "fillmode": "overlay",
              "size": 10,
              "solidity": 0.2
             }
            },
            "type": "histogram"
           }
          ],
          "histogram2d": [
           {
            "colorbar": {
             "outlinewidth": 0,
             "ticks": ""
            },
            "colorscale": [
             [
              0,
              "#0d0887"
             ],
             [
              0.1111111111111111,
              "#46039f"
             ],
             [
              0.2222222222222222,
              "#7201a8"
             ],
             [
              0.3333333333333333,
              "#9c179e"
             ],
             [
              0.4444444444444444,
              "#bd3786"
             ],
             [
              0.5555555555555556,
              "#d8576b"
             ],
             [
              0.6666666666666666,
              "#ed7953"
             ],
             [
              0.7777777777777778,
              "#fb9f3a"
             ],
             [
              0.8888888888888888,
              "#fdca26"
             ],
             [
              1,
              "#f0f921"
             ]
            ],
            "type": "histogram2d"
           }
          ],
          "histogram2dcontour": [
           {
            "colorbar": {
             "outlinewidth": 0,
             "ticks": ""
            },
            "colorscale": [
             [
              0,
              "#0d0887"
             ],
             [
              0.1111111111111111,
              "#46039f"
             ],
             [
              0.2222222222222222,
              "#7201a8"
             ],
             [
              0.3333333333333333,
              "#9c179e"
             ],
             [
              0.4444444444444444,
              "#bd3786"
             ],
             [
              0.5555555555555556,
              "#d8576b"
             ],
             [
              0.6666666666666666,
              "#ed7953"
             ],
             [
              0.7777777777777778,
              "#fb9f3a"
             ],
             [
              0.8888888888888888,
              "#fdca26"
             ],
             [
              1,
              "#f0f921"
             ]
            ],
            "type": "histogram2dcontour"
           }
          ],
          "mesh3d": [
           {
            "colorbar": {
             "outlinewidth": 0,
             "ticks": ""
            },
            "type": "mesh3d"
           }
          ],
          "parcoords": [
           {
            "line": {
             "colorbar": {
              "outlinewidth": 0,
              "ticks": ""
             }
            },
            "type": "parcoords"
           }
          ],
          "pie": [
           {
            "automargin": true,
            "type": "pie"
           }
          ],
          "scatter": [
           {
            "fillpattern": {
             "fillmode": "overlay",
             "size": 10,
             "solidity": 0.2
            },
            "type": "scatter"
           }
          ],
          "scatter3d": [
           {
            "line": {
             "colorbar": {
              "outlinewidth": 0,
              "ticks": ""
             }
            },
            "marker": {
             "colorbar": {
              "outlinewidth": 0,
              "ticks": ""
             }
            },
            "type": "scatter3d"
           }
          ],
          "scattercarpet": [
           {
            "marker": {
             "colorbar": {
              "outlinewidth": 0,
              "ticks": ""
             }
            },
            "type": "scattercarpet"
           }
          ],
          "scattergeo": [
           {
            "marker": {
             "colorbar": {
              "outlinewidth": 0,
              "ticks": ""
             }
            },
            "type": "scattergeo"
           }
          ],
          "scattergl": [
           {
            "marker": {
             "colorbar": {
              "outlinewidth": 0,
              "ticks": ""
             }
            },
            "type": "scattergl"
           }
          ],
          "scattermapbox": [
           {
            "marker": {
             "colorbar": {
              "outlinewidth": 0,
              "ticks": ""
             }
            },
            "type": "scattermapbox"
           }
          ],
          "scatterpolar": [
           {
            "marker": {
             "colorbar": {
              "outlinewidth": 0,
              "ticks": ""
             }
            },
            "type": "scatterpolar"
           }
          ],
          "scatterpolargl": [
           {
            "marker": {
             "colorbar": {
              "outlinewidth": 0,
              "ticks": ""
             }
            },
            "type": "scatterpolargl"
           }
          ],
          "scatterternary": [
           {
            "marker": {
             "colorbar": {
              "outlinewidth": 0,
              "ticks": ""
             }
            },
            "type": "scatterternary"
           }
          ],
          "surface": [
           {
            "colorbar": {
             "outlinewidth": 0,
             "ticks": ""
            },
            "colorscale": [
             [
              0,
              "#0d0887"
             ],
             [
              0.1111111111111111,
              "#46039f"
             ],
             [
              0.2222222222222222,
              "#7201a8"
             ],
             [
              0.3333333333333333,
              "#9c179e"
             ],
             [
              0.4444444444444444,
              "#bd3786"
             ],
             [
              0.5555555555555556,
              "#d8576b"
             ],
             [
              0.6666666666666666,
              "#ed7953"
             ],
             [
              0.7777777777777778,
              "#fb9f3a"
             ],
             [
              0.8888888888888888,
              "#fdca26"
             ],
             [
              1,
              "#f0f921"
             ]
            ],
            "type": "surface"
           }
          ],
          "table": [
           {
            "cells": {
             "fill": {
              "color": "#EBF0F8"
             },
             "line": {
              "color": "white"
             }
            },
            "header": {
             "fill": {
              "color": "#C8D4E3"
             },
             "line": {
              "color": "white"
             }
            },
            "type": "table"
           }
          ]
         },
         "layout": {
          "annotationdefaults": {
           "arrowcolor": "#2a3f5f",
           "arrowhead": 0,
           "arrowwidth": 1
          },
          "autotypenumbers": "strict",
          "coloraxis": {
           "colorbar": {
            "outlinewidth": 0,
            "ticks": ""
           }
          },
          "colorscale": {
           "diverging": [
            [
             0,
             "#8e0152"
            ],
            [
             0.1,
             "#c51b7d"
            ],
            [
             0.2,
             "#de77ae"
            ],
            [
             0.3,
             "#f1b6da"
            ],
            [
             0.4,
             "#fde0ef"
            ],
            [
             0.5,
             "#f7f7f7"
            ],
            [
             0.6,
             "#e6f5d0"
            ],
            [
             0.7,
             "#b8e186"
            ],
            [
             0.8,
             "#7fbc41"
            ],
            [
             0.9,
             "#4d9221"
            ],
            [
             1,
             "#276419"
            ]
           ],
           "sequential": [
            [
             0,
             "#0d0887"
            ],
            [
             0.1111111111111111,
             "#46039f"
            ],
            [
             0.2222222222222222,
             "#7201a8"
            ],
            [
             0.3333333333333333,
             "#9c179e"
            ],
            [
             0.4444444444444444,
             "#bd3786"
            ],
            [
             0.5555555555555556,
             "#d8576b"
            ],
            [
             0.6666666666666666,
             "#ed7953"
            ],
            [
             0.7777777777777778,
             "#fb9f3a"
            ],
            [
             0.8888888888888888,
             "#fdca26"
            ],
            [
             1,
             "#f0f921"
            ]
           ],
           "sequentialminus": [
            [
             0,
             "#0d0887"
            ],
            [
             0.1111111111111111,
             "#46039f"
            ],
            [
             0.2222222222222222,
             "#7201a8"
            ],
            [
             0.3333333333333333,
             "#9c179e"
            ],
            [
             0.4444444444444444,
             "#bd3786"
            ],
            [
             0.5555555555555556,
             "#d8576b"
            ],
            [
             0.6666666666666666,
             "#ed7953"
            ],
            [
             0.7777777777777778,
             "#fb9f3a"
            ],
            [
             0.8888888888888888,
             "#fdca26"
            ],
            [
             1,
             "#f0f921"
            ]
           ]
          },
          "colorway": [
           "#636efa",
           "#EF553B",
           "#00cc96",
           "#ab63fa",
           "#FFA15A",
           "#19d3f3",
           "#FF6692",
           "#B6E880",
           "#FF97FF",
           "#FECB52"
          ],
          "font": {
           "color": "#2a3f5f"
          },
          "geo": {
           "bgcolor": "white",
           "lakecolor": "white",
           "landcolor": "#E5ECF6",
           "showlakes": true,
           "showland": true,
           "subunitcolor": "white"
          },
          "hoverlabel": {
           "align": "left"
          },
          "hovermode": "closest",
          "mapbox": {
           "style": "light"
          },
          "paper_bgcolor": "white",
          "plot_bgcolor": "#E5ECF6",
          "polar": {
           "angularaxis": {
            "gridcolor": "white",
            "linecolor": "white",
            "ticks": ""
           },
           "bgcolor": "#E5ECF6",
           "radialaxis": {
            "gridcolor": "white",
            "linecolor": "white",
            "ticks": ""
           }
          },
          "scene": {
           "xaxis": {
            "backgroundcolor": "#E5ECF6",
            "gridcolor": "white",
            "gridwidth": 2,
            "linecolor": "white",
            "showbackground": true,
            "ticks": "",
            "zerolinecolor": "white"
           },
           "yaxis": {
            "backgroundcolor": "#E5ECF6",
            "gridcolor": "white",
            "gridwidth": 2,
            "linecolor": "white",
            "showbackground": true,
            "ticks": "",
            "zerolinecolor": "white"
           },
           "zaxis": {
            "backgroundcolor": "#E5ECF6",
            "gridcolor": "white",
            "gridwidth": 2,
            "linecolor": "white",
            "showbackground": true,
            "ticks": "",
            "zerolinecolor": "white"
           }
          },
          "shapedefaults": {
           "line": {
            "color": "#2a3f5f"
           }
          },
          "ternary": {
           "aaxis": {
            "gridcolor": "white",
            "linecolor": "white",
            "ticks": ""
           },
           "baxis": {
            "gridcolor": "white",
            "linecolor": "white",
            "ticks": ""
           },
           "bgcolor": "#E5ECF6",
           "caxis": {
            "gridcolor": "white",
            "linecolor": "white",
            "ticks": ""
           }
          },
          "title": {
           "x": 0.05
          },
          "xaxis": {
           "automargin": true,
           "gridcolor": "white",
           "linecolor": "white",
           "ticks": "",
           "title": {
            "standoff": 15
           },
           "zerolinecolor": "white",
           "zerolinewidth": 2
          },
          "yaxis": {
           "automargin": true,
           "gridcolor": "white",
           "linecolor": "white",
           "ticks": "",
           "title": {
            "standoff": 15
           },
           "zerolinecolor": "white",
           "zerolinewidth": 2
          }
         }
        },
        "title": {
         "text": "Pearson Correlation of numerical features"
        },
        "width": 900,
        "xaxis": {
         "nticks": 31,
         "ticks": ""
        },
        "yaxis": {
         "ticks": ""
        }
       }
      }
     },
     "metadata": {},
     "output_type": "display_data"
    }
   ],
   "source": [
    "# check the correlation between target and other columns\n",
    "def correlation_heatmap(df):\n",
    "    columns = df.columns\n",
    "    data = [go.Heatmap(z=df[columns].corr().values,\n",
    "              x=df[columns].columns.values,\n",
    "              y=df[columns].columns.values,\n",
    "              colorscale=\"Viridis\",\n",
    "              reversescale=False,\n",
    "              opacity=1.0)]\n",
    "\n",
    "    layout = go.Layout(\n",
    "        title='Pearson Correlation of numerical features',\n",
    "        xaxis = dict(ticks='', nticks=len(columns)),\n",
    "        yaxis = dict(ticks='' ),\n",
    "        width = 900, height = 700,\n",
    "    )\n",
    "\n",
    "    fig = go.Figure(data=data, layout=layout)\n",
    "    py.iplot(fig, filename='labelled-heatmap')\n",
    "correlation_heatmap(df)"
   ]
  },
  {
   "cell_type": "code",
   "execution_count": 152,
   "metadata": {},
   "outputs": [],
   "source": [
    "y = df[_target_column]\n",
    "X = df.drop(_target_column, axis=1)"
   ]
  },
  {
   "cell_type": "code",
   "execution_count": 153,
   "metadata": {},
   "outputs": [],
   "source": [
    "# split dataset\n",
    "train_data, test_data, train_labels, test_labels = train_test_split(\n",
    "    X, y, test_size=0.20, random_state=42)\n",
    "train_data.reset_index(drop=True, inplace=True)\n",
    "train_labels.reset_index(drop=True, inplace=True)\n",
    "test_data.reset_index(drop=True, inplace=True)\n",
    "test_labels.reset_index(drop=True, inplace=True)"
   ]
  },
  {
   "cell_type": "code",
   "execution_count": 154,
   "metadata": {},
   "outputs": [
    {
     "name": "stdout",
     "output_type": "stream",
     "text": [
      "Number of rows in train data: 1176\n",
      "Number of rows in test data: 294\n"
     ]
    }
   ],
   "source": [
    "print(f\"Number of rows in train data: {len(train_data)}\")\n",
    "print(f\"Number of rows in test data: {len(test_data)}\")"
   ]
  },
  {
   "cell_type": "code",
   "execution_count": 155,
   "metadata": {},
   "outputs": [
    {
     "name": "stderr",
     "output_type": "stream",
     "text": [
      "c:\\Users\\muhammad.tayyab01\\Anaconda3\\envs\\ml\\lib\\site-packages\\sklearn\\linear_model\\_logistic.py:444: ConvergenceWarning:\n",
      "\n",
      "lbfgs failed to converge (status=1):\n",
      "STOP: TOTAL NO. of ITERATIONS REACHED LIMIT.\n",
      "\n",
      "Increase the number of iterations (max_iter) or scale the data as shown in:\n",
      "    https://scikit-learn.org/stable/modules/preprocessing.html\n",
      "Please also refer to the documentation for alternative solver options:\n",
      "    https://scikit-learn.org/stable/modules/linear_model.html#logistic-regression\n",
      "\n"
     ]
    }
   ],
   "source": [
    "from sklearn.linear_model import LogisticRegression\n",
    "# Applying simple logistic regression model\n",
    "\n",
    "lr = LogisticRegression()\n",
    "lr.fit(train_data, train_labels)\n",
    "y_pred = lr.predict(test_data)"
   ]
  },
  {
   "cell_type": "code",
   "execution_count": 156,
   "metadata": {},
   "outputs": [],
   "source": [
    "from sklearn.metrics import classification_report, confusion_matrix, accuracy_score"
   ]
  },
  {
   "cell_type": "code",
   "execution_count": 157,
   "metadata": {},
   "outputs": [
    {
     "name": "stdout",
     "output_type": "stream",
     "text": [
      "              precision    recall  f1-score   support\n",
      "\n",
      "           0       0.87      0.99      0.92       255\n",
      "           1       0.00      0.00      0.00        39\n",
      "\n",
      "    accuracy                           0.86       294\n",
      "   macro avg       0.43      0.49      0.46       294\n",
      "weighted avg       0.75      0.86      0.80       294\n",
      "\n",
      "Total accuracy: 0.8571428571428571\n"
     ]
    },
    {
     "data": {
      "image/png": "[encoded data removed]",
      "text/plain": [
       "<Figure size 640x480 with 2 Axes>"
      ]
     },
     "metadata": {},
     "output_type": "display_data"
    }
   ],
   "source": [
    "cm = confusion_matrix(test_labels, y_pred)\n",
    "sns.heatmap(cm, annot=True)\n",
    "print(classification_report(test_labels, y_pred))\n",
    "print(f\"Total accuracy: {accuracy_score(test_labels, y_pred)}\")"
   ]
  },
  {
   "attachments": {},
   "cell_type": "markdown",
   "metadata": {},
   "source": [
    "As we can see there are alot of flase negative values in the results this is due to inconsistencies between the classes. Let's try to make the classes equal."
   ]
  },
  {
   "cell_type": "code",
   "execution_count": 158,
   "metadata": {},
   "outputs": [],
   "source": [
    "def distribute_data_equally(df, target_column):\n",
    "    df = df.copy()\n",
    "    employee_attrition = df[df[target_column] == 1]\n",
    "    employee_non_attrition = df[df[target_column] != 1] \\\n",
    "                        .sample(n = len(employee_attrition))\n",
    "    df =  pd.concat([employee_attrition, employee_non_attrition])\n",
    "    df = df.sample(frac=1).reset_index(drop=True)\n",
    "    df.reset_index(drop=True, inplace=True)\n",
    "    return df"
   ]
  },
  {
   "cell_type": "code",
   "execution_count": 159,
   "metadata": {},
   "outputs": [],
   "source": [
    "df = distribute_data_equally(df, _target_column)"
   ]
  },
  {
   "cell_type": "code",
   "execution_count": 160,
   "metadata": {},
   "outputs": [],
   "source": [
    "y = df[_target_column]\n",
    "X = df.drop(_target_column, axis=1)\n",
    "\n",
    "# split dataset\n",
    "train_data, test_data, train_labels, test_labels = train_test_split(\n",
    "    X, y, test_size=0.20, random_state=42)\n",
    "train_data.reset_index(drop=True, inplace=True)\n",
    "train_labels.reset_index(drop=True, inplace=True)\n",
    "test_data.reset_index(drop=True, inplace=True)\n",
    "test_labels.reset_index(drop=True, inplace=True)"
   ]
  },
  {
   "cell_type": "code",
   "execution_count": 161,
   "metadata": {},
   "outputs": [
    {
     "name": "stdout",
     "output_type": "stream",
     "text": [
      "Number of rows in train data: 379\n",
      "Number of rows in test data: 95\n"
     ]
    }
   ],
   "source": [
    "print(f\"Number of rows in train data: {len(train_data)}\")\n",
    "print(f\"Number of rows in test data: {len(test_data)}\")"
   ]
  },
  {
   "cell_type": "code",
   "execution_count": 162,
   "metadata": {},
   "outputs": [
    {
     "name": "stderr",
     "output_type": "stream",
     "text": [
      "c:\\Users\\muhammad.tayyab01\\Anaconda3\\envs\\ml\\lib\\site-packages\\sklearn\\linear_model\\_logistic.py:444: ConvergenceWarning:\n",
      "\n",
      "lbfgs failed to converge (status=1):\n",
      "STOP: TOTAL NO. of ITERATIONS REACHED LIMIT.\n",
      "\n",
      "Increase the number of iterations (max_iter) or scale the data as shown in:\n",
      "    https://scikit-learn.org/stable/modules/preprocessing.html\n",
      "Please also refer to the documentation for alternative solver options:\n",
      "    https://scikit-learn.org/stable/modules/linear_model.html#logistic-regression\n",
      "\n"
     ]
    }
   ],
   "source": [
    "lr = LogisticRegression()\n",
    "lr.fit(train_data, train_labels)\n",
    "y_pred = lr.predict(test_data)"
   ]
  },
  {
   "cell_type": "code",
   "execution_count": 163,
   "metadata": {},
   "outputs": [
    {
     "name": "stdout",
     "output_type": "stream",
     "text": [
      "              precision    recall  f1-score   support\n",
      "\n",
      "           0       0.59      0.58      0.58        45\n",
      "           1       0.63      0.64      0.63        50\n",
      "\n",
      "    accuracy                           0.61        95\n",
      "   macro avg       0.61      0.61      0.61        95\n",
      "weighted avg       0.61      0.61      0.61        95\n",
      "\n",
      "Total accuracy: 0.6105263157894737\n"
     ]
    },
    {
     "data": {
      "image/png": "[encoded data removed]",
      "text/plain": [
       "<Figure size 640x480 with 2 Axes>"
      ]
     },
     "metadata": {},
     "output_type": "display_data"
    }
   ],
   "source": [
    "cm = confusion_matrix(test_labels, y_pred)\n",
    "sns.heatmap(cm, annot=True)\n",
    "print(classification_report(test_labels, y_pred))\n",
    "print(f\"Total accuracy: {accuracy_score(test_labels, y_pred)}\")"
   ]
  },
  {
   "cell_type": "markdown",
   "metadata": {},
   "source": [
    "Lets try random forest classifier for the same problem"
   ]
  },
  {
   "cell_type": "code",
   "execution_count": 164,
   "metadata": {},
   "outputs": [],
   "source": [
    "from sklearn.ensemble import RandomForestClassifier\n",
    "rfc = RandomForestClassifier()\n",
    "rfc.fit(train_data, train_labels)\n",
    "y_pred = rfc.predict(test_data)"
   ]
  },
  {
   "cell_type": "code",
   "execution_count": 165,
   "metadata": {},
   "outputs": [
    {
     "name": "stdout",
     "output_type": "stream",
     "text": [
      "              precision    recall  f1-score   support\n",
      "\n",
      "           0       0.65      0.80      0.72        45\n",
      "           1       0.78      0.62      0.69        50\n",
      "\n",
      "    accuracy                           0.71        95\n",
      "   macro avg       0.71      0.71      0.70        95\n",
      "weighted avg       0.72      0.71      0.70        95\n",
      "\n",
      "Total accuracy: 0.7052631578947368\n"
     ]
    },
    {
     "data": {
      "image/png": "[encoded data removed]",
      "text/plain": [
       "<Figure size 640x480 with 2 Axes>"
      ]
     },
     "metadata": {},
     "output_type": "display_data"
    }
   ],
   "source": [
    "cm = confusion_matrix(test_labels, y_pred)\n",
    "sns.heatmap(cm, annot=True)\n",
    "print(classification_report(test_labels, y_pred))\n",
    "print(f\"Total accuracy: {accuracy_score(test_labels, y_pred)}\")"
   ]
  },
  {
   "attachments": {},
   "cell_type": "markdown",
   "metadata": {},
   "source": [
    "Random Forest Classifier seems to work more well then default logistic regression classifier"
   ]
  }
 ],
 "metadata": {
  "kernelspec": {
   "display_name": "ml",
   "language": "python",
   "name": "python3"
  },
  "language_info": {
   "codemirror_mode": {
    "name": "ipython",
    "version": 3
   },
   "file_extension": ".py",
   "mimetype": "text/x-python",
   "name": "python",
   "nbconvert_exporter": "python",
   "pygments_lexer": "ipython3",
   "version": "3.10.4"
  },
  "orig_nbformat": 4
 },
 "nbformat": 4,
 "nbformat_minor": 2
}
